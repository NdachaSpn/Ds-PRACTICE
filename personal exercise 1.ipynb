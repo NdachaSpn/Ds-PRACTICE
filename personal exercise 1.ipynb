{
 "cells": [
  {
   "cell_type": "code",
   "execution_count": 3,
   "metadata": {},
   "outputs": [
    {
     "name": "stdout",
     "output_type": "stream",
     "text": [
      "       Age  Female   Male  Male_inverse  OBJECTID\n",
      "0     _Age  Female   Male  Male_Inverse  OBJECTID\n",
      "1   0 - 10   76072  78981        -78981         0\n",
      "2    13-19   71707  74396        -74396         1\n",
      "3  20 - 30   61045  57643        -57643         2\n",
      "4  30 - 40   49748  46936        -46936         3\n",
      "5  40 - 50   37377  34177        -34177         4\n",
      "6  50 - 60   22123  19372        -19372         5\n",
      "7  60 - 70   17343  15041        -15041         6\n",
      "8  70 - 80   10120   8009         -8009         7\n",
      "9      80+    8200   5064         -5064         8\n"
     ]
    }
   ],
   "source": [
    "import pandas as pd\n",
    "import numpy as np\n",
    "path=\"C:/Users/Simon/Downloads/nyeri_pop.csv\"\n",
    "attributes=['Age','Female','Male','Male_inverse','OBJECTID']\n",
    "Data=pd.read_csv(path, names=attributes)\n",
    "print (Data)"
   ]
  },
  {
   "cell_type": "code",
   "execution_count": 4,
   "metadata": {},
   "outputs": [
    {
     "data": {
      "text/html": [
       "<div>\n",
       "<style scoped>\n",
       "    .dataframe tbody tr th:only-of-type {\n",
       "        vertical-align: middle;\n",
       "    }\n",
       "\n",
       "    .dataframe tbody tr th {\n",
       "        vertical-align: top;\n",
       "    }\n",
       "\n",
       "    .dataframe thead th {\n",
       "        text-align: right;\n",
       "    }\n",
       "</style>\n",
       "<table border=\"1\" class=\"dataframe\">\n",
       "  <thead>\n",
       "    <tr style=\"text-align: right;\">\n",
       "      <th></th>\n",
       "      <th>Age</th>\n",
       "      <th>Female</th>\n",
       "      <th>Male</th>\n",
       "      <th>Male_inverse</th>\n",
       "      <th>OBJECTID</th>\n",
       "    </tr>\n",
       "  </thead>\n",
       "  <tbody>\n",
       "    <tr>\n",
       "      <td>7</td>\n",
       "      <td>60 - 70</td>\n",
       "      <td>17343</td>\n",
       "      <td>15041</td>\n",
       "      <td>-15041</td>\n",
       "      <td>6</td>\n",
       "    </tr>\n",
       "    <tr>\n",
       "      <td>8</td>\n",
       "      <td>70 - 80</td>\n",
       "      <td>10120</td>\n",
       "      <td>8009</td>\n",
       "      <td>-8009</td>\n",
       "      <td>7</td>\n",
       "    </tr>\n",
       "    <tr>\n",
       "      <td>9</td>\n",
       "      <td>80+</td>\n",
       "      <td>8200</td>\n",
       "      <td>5064</td>\n",
       "      <td>-5064</td>\n",
       "      <td>8</td>\n",
       "    </tr>\n",
       "  </tbody>\n",
       "</table>\n",
       "</div>"
      ],
      "text/plain": [
       "       Age Female   Male Male_inverse OBJECTID\n",
       "7  60 - 70  17343  15041       -15041        6\n",
       "8  70 - 80  10120   8009        -8009        7\n",
       "9      80+   8200   5064        -5064        8"
      ]
     },
     "execution_count": 4,
     "metadata": {},
     "output_type": "execute_result"
    }
   ],
   "source": [
    "Data.tail(n=3)\n",
    "\n"
   ]
  },
  {
   "cell_type": "code",
   "execution_count": 5,
   "metadata": {},
   "outputs": [
    {
     "data": {
      "text/html": [
       "<div>\n",
       "<style scoped>\n",
       "    .dataframe tbody tr th:only-of-type {\n",
       "        vertical-align: middle;\n",
       "    }\n",
       "\n",
       "    .dataframe tbody tr th {\n",
       "        vertical-align: top;\n",
       "    }\n",
       "\n",
       "    .dataframe thead th {\n",
       "        text-align: right;\n",
       "    }\n",
       "</style>\n",
       "<table border=\"1\" class=\"dataframe\">\n",
       "  <thead>\n",
       "    <tr style=\"text-align: right;\">\n",
       "      <th></th>\n",
       "      <th>Age</th>\n",
       "      <th>Female</th>\n",
       "      <th>Male</th>\n",
       "      <th>Male_inverse</th>\n",
       "      <th>OBJECTID</th>\n",
       "    </tr>\n",
       "  </thead>\n",
       "  <tbody>\n",
       "    <tr>\n",
       "      <td>0</td>\n",
       "      <td>_Age</td>\n",
       "      <td>Female</td>\n",
       "      <td>Male</td>\n",
       "      <td>Male_Inverse</td>\n",
       "      <td>OBJECTID</td>\n",
       "    </tr>\n",
       "    <tr>\n",
       "      <td>1</td>\n",
       "      <td>0 - 10</td>\n",
       "      <td>76072</td>\n",
       "      <td>78981</td>\n",
       "      <td>-78981</td>\n",
       "      <td>0</td>\n",
       "    </tr>\n",
       "    <tr>\n",
       "      <td>2</td>\n",
       "      <td>13-19</td>\n",
       "      <td>71707</td>\n",
       "      <td>74396</td>\n",
       "      <td>-74396</td>\n",
       "      <td>1</td>\n",
       "    </tr>\n",
       "  </tbody>\n",
       "</table>\n",
       "</div>"
      ],
      "text/plain": [
       "      Age  Female   Male  Male_inverse  OBJECTID\n",
       "0    _Age  Female   Male  Male_Inverse  OBJECTID\n",
       "1  0 - 10   76072  78981        -78981         0\n",
       "2   13-19   71707  74396        -74396         1"
      ]
     },
     "execution_count": 5,
     "metadata": {},
     "output_type": "execute_result"
    }
   ],
   "source": [
    "Data.head(n=3)"
   ]
  },
  {
   "cell_type": "code",
   "execution_count": 6,
   "metadata": {},
   "outputs": [
    {
     "data": {
      "text/plain": [
       "<bound method DataFrame.info of        Age  Female   Male  Male_inverse  OBJECTID\n",
       "0     _Age  Female   Male  Male_Inverse  OBJECTID\n",
       "1   0 - 10   76072  78981        -78981         0\n",
       "2    13-19   71707  74396        -74396         1\n",
       "3  20 - 30   61045  57643        -57643         2\n",
       "4  30 - 40   49748  46936        -46936         3\n",
       "5  40 - 50   37377  34177        -34177         4\n",
       "6  50 - 60   22123  19372        -19372         5\n",
       "7  60 - 70   17343  15041        -15041         6\n",
       "8  70 - 80   10120   8009         -8009         7\n",
       "9      80+    8200   5064         -5064         8>"
      ]
     },
     "execution_count": 6,
     "metadata": {},
     "output_type": "execute_result"
    }
   ],
   "source": [
    "Data.info"
   ]
  },
  {
   "cell_type": "code",
   "execution_count": 7,
   "metadata": {},
   "outputs": [
    {
     "data": {
      "text/plain": [
       "<bound method DataFrame.mean of        Age  Female   Male  Male_inverse  OBJECTID\n",
       "0     _Age  Female   Male  Male_Inverse  OBJECTID\n",
       "1   0 - 10   76072  78981        -78981         0\n",
       "2    13-19   71707  74396        -74396         1\n",
       "3  20 - 30   61045  57643        -57643         2\n",
       "4  30 - 40   49748  46936        -46936         3\n",
       "5  40 - 50   37377  34177        -34177         4\n",
       "6  50 - 60   22123  19372        -19372         5\n",
       "7  60 - 70   17343  15041        -15041         6\n",
       "8  70 - 80   10120   8009         -8009         7\n",
       "9      80+    8200   5064         -5064         8>"
      ]
     },
     "execution_count": 7,
     "metadata": {},
     "output_type": "execute_result"
    }
   ],
   "source": [
    "Data.mean"
   ]
  },
  {
   "cell_type": "code",
   "execution_count": 10,
   "metadata": {},
   "outputs": [
    {
     "data": {
      "text/plain": [
       "0    Female\n",
       "1     76072\n",
       "2     71707\n",
       "3     61045\n",
       "4     49748\n",
       "5     37377\n",
       "6     22123\n",
       "7     17343\n",
       "8     10120\n",
       "9      8200\n",
       "Name: Female, dtype: object"
      ]
     },
     "execution_count": 10,
     "metadata": {},
     "output_type": "execute_result"
    }
   ],
   "source": [
    "Data['Female']"
   ]
  },
  {
   "cell_type": "code",
   "execution_count": 11,
   "metadata": {},
   "outputs": [
    {
     "name": "stdout",
     "output_type": "stream",
     "text": [
      "   Age  Female  Male  Male_inverse  OBJECTID\n",
      "0    9       9     9             9         9\n",
      "1    0       7     7             7         0\n",
      "2    1       6     6             6         1\n",
      "3    2       5     5             5         2\n",
      "4    3       4     3             3         3\n",
      "5    4       3     2             2         4\n",
      "6    5       2     1             1         5\n",
      "7    6       1     0             0         6\n",
      "8    7       0     8             8         7\n",
      "9    8       8     4             4         8\n"
     ]
    }
   ],
   "source": [
    " from sklearn import preprocessing \n",
    "Encoder=preprocessing.LabelEncoder()\n",
    "Encoded_Data=Data.apply(preprocessing.LabelEncoder().fit_transform)\n",
    "print(Encoded_Data)"
   ]
  },
  {
   "cell_type": "code",
   "execution_count": 12,
   "metadata": {},
   "outputs": [
    {
     "name": "stdout",
     "output_type": "stream",
     "text": [
      "[[9 9 9 9 9]\n",
      " [0 7 7 7 0]\n",
      " [1 6 6 6 1]\n",
      " [2 5 5 5 2]\n",
      " [3 4 3 3 3]\n",
      " [4 3 2 2 4]\n",
      " [5 2 1 1 5]\n",
      " [6 1 0 0 6]\n",
      " [7 0 8 8 7]\n",
      " [8 8 4 4 8]]\n"
     ]
    }
   ],
   "source": [
    "from sklearn.preprocessing import Normalizer\n",
    "from numpy import set_printoptions\n",
    "Numeric_data=Encoded_Data.values\n",
    "print(Numeric_data)"
   ]
  },
  {
   "cell_type": "code",
   "execution_count": 13,
   "metadata": {},
   "outputs": [
    {
     "name": "stdout",
     "output_type": "stream",
     "text": [
      "trainingSample\n",
      " [[9 9 9 9 9]\n",
      " [0 7 7 7 0]\n",
      " [1 6 6 6 1]\n",
      " [2 5 5 5 2]\n",
      " [3 4 3 3 3]\n",
      " [4 3 2 2 4]\n",
      " [5 2 1 1 5]\n",
      " [6 1 0 0 6]\n",
      " [7 0 8 8 7]\n",
      " [8 8 4 4 8]]\n"
     ]
    }
   ],
   "source": [
    "split=10\n",
    "trainingsample=Numeric_data[:split,:]\n",
    "print(\"trainingSample\\n\",trainingsample)\n",
    "\n"
   ]
  },
  {
   "cell_type": "code",
   "execution_count": 14,
   "metadata": {},
   "outputs": [
    {
     "name": "stdout",
     "output_type": "stream",
     "text": [
      "input sample\n",
      " [[9 9 9 9]\n",
      " [0 7 7 7]\n",
      " [1 6 6 6]\n",
      " [2 5 5 5]\n",
      " [3 4 3 3]\n",
      " [4 3 2 2]\n",
      " [5 2 1 1]\n",
      " [6 1 0 0]\n",
      " [7 0 8 8]\n",
      " [8 8 4 4]]\n",
      "output variables\n",
      " [9 0 1 2 3 4 5 6 7 8]\n"
     ]
    }
   ],
   "source": [
    "X_Attributes_TrainingSample=trainingsample[:,0:-1]\n",
    "Y_Attributes_TrainingSample=trainingsample[:,-1]\n",
    "print(\"input sample\\n\",X_Attributes_TrainingSample)\n",
    "print(\"output variables\\n\", Y_Attributes_TrainingSample)"
   ]
  },
  {
   "cell_type": "code",
   "execution_count": 15,
   "metadata": {},
   "outputs": [
    {
     "name": "stdout",
     "output_type": "stream",
     "text": [
      "standardized samples\n",
      " [[ 1.5666989   1.5666989   1.5666989   1.5666989 ]\n",
      " [-1.5666989   0.87038828  0.87038828  0.87038828]\n",
      " [-1.21854359  0.52223297  0.52223297  0.52223297]\n",
      " [-0.87038828  0.17407766  0.17407766  0.17407766]\n",
      " [-0.52223297 -0.17407766 -0.52223297 -0.52223297]\n",
      " [-0.17407766 -0.52223297 -0.87038828 -0.87038828]\n",
      " [ 0.17407766 -0.87038828 -1.21854359 -1.21854359]\n",
      " [ 0.52223297 -1.21854359 -1.5666989  -1.5666989 ]\n",
      " [ 0.87038828 -1.5666989   1.21854359  1.21854359]\n",
      " [ 1.21854359  1.21854359 -0.17407766 -0.17407766]]\n"
     ]
    }
   ],
   "source": [
    "standardized_X=preprocessing.scale(X_Attributes_TrainingSample)\n",
    "print(\"standardized samples\\n\",standardized_X)"
   ]
  },
  {
   "cell_type": "code",
   "execution_count": 16,
   "metadata": {},
   "outputs": [
    {
     "name": "stdout",
     "output_type": "stream",
     "text": [
      "[[0.5   0.5   0.5   0.5  ]\n",
      " [0.    0.577 0.577 0.577]\n",
      " [0.096 0.575 0.575 0.575]\n",
      " [0.225 0.563 0.563 0.563]\n",
      " [0.457 0.61  0.457 0.457]\n",
      " [0.696 0.522 0.348 0.348]\n",
      " [0.898 0.359 0.18  0.18 ]\n",
      " [0.986 0.164 0.    0.   ]\n",
      " [0.526 0.    0.601 0.601]\n",
      " [0.632 0.632 0.316 0.316]]\n"
     ]
    }
   ],
   "source": [
    "import matplotlib.pyplot as plt\n",
    "from matplotlib import style\n",
    "style.use(\"ggplot\")\n",
    "from sklearn.cluster import KMeans\n",
    "from sklearn.decomposition import PCA\n",
    "normalized_data=preprocessing.normalize(X_Attributes_TrainingSample)\n",
    "set_printoptions(precision=3)\n",
    "print(normalized_data)"
   ]
  },
  {
   "cell_type": "code",
   "execution_count": 17,
   "metadata": {},
   "outputs": [
    {
     "name": "stdout",
     "output_type": "stream",
     "text": [
      "decomposed data\n",
      " [[-0.091  0.005]\n",
      " [-0.55  -0.034]\n",
      " [-0.476 -0.031]\n",
      " [-0.366 -0.023]\n",
      " [-0.113 -0.121]\n",
      " [ 0.182 -0.097]\n",
      " [ 0.521 -0.04 ]\n",
      " [ 0.793  0.037]\n",
      " [-0.034  0.521]\n",
      " [ 0.135 -0.218]]\n"
     ]
    }
   ],
   "source": [
    "pca=PCA(n_components=2)\n",
    "pca.fit(normalized_data)\n",
    "decomposed_data=pca.transform(normalized_data)\n",
    "print(\"decomposed data\\n\",decomposed_data)"
   ]
  },
  {
   "cell_type": "code",
   "execution_count": 23,
   "metadata": {},
   "outputs": [
    {
     "name": "stdout",
     "output_type": "stream",
     "text": [
      "[[-0.034  0.521]\n",
      " [-0.55  -0.034]\n",
      " [ 0.182 -0.097]\n",
      " [ 0.793  0.037]\n",
      " [-0.091  0.005]\n",
      " [ 0.521 -0.04 ]\n",
      " [-0.366 -0.023]\n",
      " [ 0.135 -0.218]\n",
      " [-0.113 -0.121]\n",
      " [-0.476 -0.031]]\n",
      "[4 1 9 6 8 2 5 3 0 7]\n"
     ]
    }
   ],
   "source": [
    "kmeans_algorithm=KMeans(n_clusters=10)\n",
    "kmeans_algorithm.fit(decomposed_data)\n",
    "centroids=kmeans_algorithm.cluster_centers_\n",
    "cluster_assignments=kmeans_algorithm.labels_\n",
    "print(centroids)\n",
    "print(cluster_assignments)"
   ]
  },
  {
   "cell_type": "code",
   "execution_count": 25,
   "metadata": {},
   "outputs": [
    {
     "data": {
      "text/plain": [
       "<matplotlib.collections.PathCollection at 0x29576893f88>"
      ]
     },
     "execution_count": 25,
     "metadata": {},
     "output_type": "execute_result"
    },
    {
     "data": {
      "image/png": "[encoded data removed]",
      "text/plain": [
       "<Figure size 432x288 with 1 Axes>"
      ]
     },
     "metadata": {},
     "output_type": "display_data"
    }
   ],
   "source": [
    "plt.scatter(decomposed_data[:,0],decomposed_data[:,1],c=kmeans_algorithm.labels_,cmap='rainbow')\n",
    "plt.scatter(centroids[:,0],centroids[:,1],marker=\"*\",color='g')"
   ]
  },
  {
   "cell_type": "code",
   "execution_count": null,
   "metadata": {},
   "outputs": [],
   "source": []
  },
  {
   "cell_type": "code",
   "execution_count": null,
   "metadata": {},
   "outputs": [],
   "source": []
  },
  {
   "cell_type": "code",
   "execution_count": null,
   "metadata": {},
   "outputs": [],
   "source": []
  }
 ],
 "metadata": {
  "kernelspec": {
   "display_name": "Python 3",
   "language": "python",
   "name": "python3"
  },
  "language_info": {
   "codemirror_mode": {
    "name": "ipython",
    "version": 3
   },
   "file_extension": ".py",
   "mimetype": "text/x-python",
   "name": "python",
   "nbconvert_exporter": "python",
   "pygments_lexer": "ipython3",
   "version": "3.7.4"
  }
 },
 "nbformat": 4,
 "nbformat_minor": 2
}
